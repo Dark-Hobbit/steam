{
 "cells": [
  {
   "cell_type": "code",
   "execution_count": 1,
   "id": "dec7913a",
   "metadata": {},
   "outputs": [
    {
     "data": {
      "text/html": [
       "<div>\n",
       "<style scoped>\n",
       "    .dataframe tbody tr th:only-of-type {\n",
       "        vertical-align: middle;\n",
       "    }\n",
       "\n",
       "    .dataframe tbody tr th {\n",
       "        vertical-align: top;\n",
       "    }\n",
       "\n",
       "    .dataframe thead th {\n",
       "        text-align: right;\n",
       "    }\n",
       "</style>\n",
       "<table border=\"1\" class=\"dataframe\">\n",
       "  <thead>\n",
       "    <tr style=\"text-align: right;\">\n",
       "      <th></th>\n",
       "      <th>0</th>\n",
       "      <th>1</th>\n",
       "      <th>2</th>\n",
       "      <th>3</th>\n",
       "      <th>4</th>\n",
       "    </tr>\n",
       "  </thead>\n",
       "  <tbody>\n",
       "    <tr>\n",
       "      <th>0</th>\n",
       "      <td>151603712</td>\n",
       "      <td>The Elder Scrolls V Skyrim</td>\n",
       "      <td>purchase</td>\n",
       "      <td>1.0</td>\n",
       "      <td>0</td>\n",
       "    </tr>\n",
       "    <tr>\n",
       "      <th>1</th>\n",
       "      <td>151603712</td>\n",
       "      <td>The Elder Scrolls V Skyrim</td>\n",
       "      <td>play</td>\n",
       "      <td>273.0</td>\n",
       "      <td>0</td>\n",
       "    </tr>\n",
       "    <tr>\n",
       "      <th>2</th>\n",
       "      <td>151603712</td>\n",
       "      <td>Fallout 4</td>\n",
       "      <td>purchase</td>\n",
       "      <td>1.0</td>\n",
       "      <td>0</td>\n",
       "    </tr>\n",
       "    <tr>\n",
       "      <th>3</th>\n",
       "      <td>151603712</td>\n",
       "      <td>Fallout 4</td>\n",
       "      <td>play</td>\n",
       "      <td>87.0</td>\n",
       "      <td>0</td>\n",
       "    </tr>\n",
       "    <tr>\n",
       "      <th>4</th>\n",
       "      <td>151603712</td>\n",
       "      <td>Spore</td>\n",
       "      <td>purchase</td>\n",
       "      <td>1.0</td>\n",
       "      <td>0</td>\n",
       "    </tr>\n",
       "  </tbody>\n",
       "</table>\n",
       "</div>"
      ],
      "text/plain": [
       "           0                           1         2      3  4\n",
       "0  151603712  The Elder Scrolls V Skyrim  purchase    1.0  0\n",
       "1  151603712  The Elder Scrolls V Skyrim      play  273.0  0\n",
       "2  151603712                   Fallout 4  purchase    1.0  0\n",
       "3  151603712                   Fallout 4      play   87.0  0\n",
       "4  151603712                       Spore  purchase    1.0  0"
      ]
     },
     "execution_count": 1,
     "metadata": {},
     "output_type": "execute_result"
    }
   ],
   "source": [
    "# Importing standard packages for data exploration and processing.\n",
    "import numpy as np\n",
    "import pandas as pd\n",
    "import matplotlib.pyplot as plt\n",
    "import seaborn as sns\n",
    "\n",
    "%matplotlib inline\n",
    "\n",
    "\n",
    "# Our data has no header row.\n",
    "data = pd.read_csv('data/kaggle/1_steam-200k.csv', header=None)\n",
    "data.head()"
   ]
  },
  {
   "cell_type": "code",
   "execution_count": 2,
   "id": "29b6f7c5",
   "metadata": {},
   "outputs": [
    {
     "name": "stdout",
     "output_type": "stream",
     "text": [
      "<class 'pandas.core.frame.DataFrame'>\n",
      "RangeIndex: 200000 entries, 0 to 199999\n",
      "Data columns (total 5 columns):\n",
      " #   Column  Non-Null Count   Dtype  \n",
      "---  ------  --------------   -----  \n",
      " 0   0       200000 non-null  int64  \n",
      " 1   1       200000 non-null  object \n",
      " 2   2       200000 non-null  object \n",
      " 3   3       200000 non-null  float64\n",
      " 4   4       200000 non-null  int64  \n",
      "dtypes: float64(1), int64(2), object(2)\n",
      "memory usage: 7.6+ MB\n"
     ]
    }
   ],
   "source": [
    "data.info()"
   ]
  },
  {
   "cell_type": "code",
   "execution_count": 3,
   "id": "56340161",
   "metadata": {},
   "outputs": [
    {
     "data": {
      "text/html": [
       "<div>\n",
       "<style scoped>\n",
       "    .dataframe tbody tr th:only-of-type {\n",
       "        vertical-align: middle;\n",
       "    }\n",
       "\n",
       "    .dataframe tbody tr th {\n",
       "        vertical-align: top;\n",
       "    }\n",
       "\n",
       "    .dataframe thead th {\n",
       "        text-align: right;\n",
       "    }\n",
       "</style>\n",
       "<table border=\"1\" class=\"dataframe\">\n",
       "  <thead>\n",
       "    <tr style=\"text-align: right;\">\n",
       "      <th></th>\n",
       "      <th>0</th>\n",
       "      <th>3</th>\n",
       "      <th>4</th>\n",
       "    </tr>\n",
       "  </thead>\n",
       "  <tbody>\n",
       "    <tr>\n",
       "      <th>count</th>\n",
       "      <td>2.000000e+05</td>\n",
       "      <td>200000.000000</td>\n",
       "      <td>200000.0</td>\n",
       "    </tr>\n",
       "    <tr>\n",
       "      <th>mean</th>\n",
       "      <td>1.036559e+08</td>\n",
       "      <td>17.874384</td>\n",
       "      <td>0.0</td>\n",
       "    </tr>\n",
       "    <tr>\n",
       "      <th>std</th>\n",
       "      <td>7.208074e+07</td>\n",
       "      <td>138.056952</td>\n",
       "      <td>0.0</td>\n",
       "    </tr>\n",
       "    <tr>\n",
       "      <th>min</th>\n",
       "      <td>5.250000e+03</td>\n",
       "      <td>0.100000</td>\n",
       "      <td>0.0</td>\n",
       "    </tr>\n",
       "    <tr>\n",
       "      <th>25%</th>\n",
       "      <td>4.738420e+07</td>\n",
       "      <td>1.000000</td>\n",
       "      <td>0.0</td>\n",
       "    </tr>\n",
       "    <tr>\n",
       "      <th>50%</th>\n",
       "      <td>8.691201e+07</td>\n",
       "      <td>1.000000</td>\n",
       "      <td>0.0</td>\n",
       "    </tr>\n",
       "    <tr>\n",
       "      <th>75%</th>\n",
       "      <td>1.542309e+08</td>\n",
       "      <td>1.300000</td>\n",
       "      <td>0.0</td>\n",
       "    </tr>\n",
       "    <tr>\n",
       "      <th>max</th>\n",
       "      <td>3.099031e+08</td>\n",
       "      <td>11754.000000</td>\n",
       "      <td>0.0</td>\n",
       "    </tr>\n",
       "  </tbody>\n",
       "</table>\n",
       "</div>"
      ],
      "text/plain": [
       "                  0              3         4\n",
       "count  2.000000e+05  200000.000000  200000.0\n",
       "mean   1.036559e+08      17.874384       0.0\n",
       "std    7.208074e+07     138.056952       0.0\n",
       "min    5.250000e+03       0.100000       0.0\n",
       "25%    4.738420e+07       1.000000       0.0\n",
       "50%    8.691201e+07       1.000000       0.0\n",
       "75%    1.542309e+08       1.300000       0.0\n",
       "max    3.099031e+08   11754.000000       0.0"
      ]
     },
     "execution_count": 3,
     "metadata": {},
     "output_type": "execute_result"
    }
   ],
   "source": [
    "data.describe()"
   ]
  },
  {
   "cell_type": "code",
   "execution_count": 4,
   "id": "128d969e",
   "metadata": {
    "scrolled": true
   },
   "outputs": [
    {
     "data": {
      "text/html": [
       "<div>\n",
       "<style scoped>\n",
       "    .dataframe tbody tr th:only-of-type {\n",
       "        vertical-align: middle;\n",
       "    }\n",
       "\n",
       "    .dataframe tbody tr th {\n",
       "        vertical-align: top;\n",
       "    }\n",
       "\n",
       "    .dataframe thead th {\n",
       "        text-align: right;\n",
       "    }\n",
       "</style>\n",
       "<table border=\"1\" class=\"dataframe\">\n",
       "  <thead>\n",
       "    <tr style=\"text-align: right;\">\n",
       "      <th></th>\n",
       "      <th>Player_id</th>\n",
       "      <th>Game</th>\n",
       "      <th>Action</th>\n",
       "      <th>Amount</th>\n",
       "    </tr>\n",
       "  </thead>\n",
       "  <tbody>\n",
       "    <tr>\n",
       "      <th>0</th>\n",
       "      <td>151603712</td>\n",
       "      <td>The Elder Scrolls V Skyrim</td>\n",
       "      <td>purchase</td>\n",
       "      <td>1.0</td>\n",
       "    </tr>\n",
       "    <tr>\n",
       "      <th>1</th>\n",
       "      <td>151603712</td>\n",
       "      <td>The Elder Scrolls V Skyrim</td>\n",
       "      <td>play</td>\n",
       "      <td>273.0</td>\n",
       "    </tr>\n",
       "    <tr>\n",
       "      <th>2</th>\n",
       "      <td>151603712</td>\n",
       "      <td>Fallout 4</td>\n",
       "      <td>purchase</td>\n",
       "      <td>1.0</td>\n",
       "    </tr>\n",
       "    <tr>\n",
       "      <th>3</th>\n",
       "      <td>151603712</td>\n",
       "      <td>Fallout 4</td>\n",
       "      <td>play</td>\n",
       "      <td>87.0</td>\n",
       "    </tr>\n",
       "    <tr>\n",
       "      <th>4</th>\n",
       "      <td>151603712</td>\n",
       "      <td>Spore</td>\n",
       "      <td>purchase</td>\n",
       "      <td>1.0</td>\n",
       "    </tr>\n",
       "  </tbody>\n",
       "</table>\n",
       "</div>"
      ],
      "text/plain": [
       "   Player_id                        Game    Action  Amount\n",
       "0  151603712  The Elder Scrolls V Skyrim  purchase     1.0\n",
       "1  151603712  The Elder Scrolls V Skyrim      play   273.0\n",
       "2  151603712                   Fallout 4  purchase     1.0\n",
       "3  151603712                   Fallout 4      play    87.0\n",
       "4  151603712                       Spore  purchase     1.0"
      ]
     },
     "execution_count": 4,
     "metadata": {},
     "output_type": "execute_result"
    }
   ],
   "source": [
    "# The last column is useless.\n",
    "data.drop(4, axis=1, inplace=True)\n",
    "\n",
    "# Current column names are not very informative, are they?\n",
    "header = ['Player_id', 'Game', 'Action', 'Amount']\n",
    "data.columns = header\n",
    "data.head()"
   ]
  },
  {
   "cell_type": "code",
   "execution_count": 5,
   "id": "42199e62",
   "metadata": {},
   "outputs": [
    {
     "data": {
      "text/plain": [
       "purchase    129511\n",
       "play         70489\n",
       "Name: Action, dtype: int64"
      ]
     },
     "execution_count": 5,
     "metadata": {},
     "output_type": "execute_result"
    }
   ],
   "source": [
    "# Not all people that buy a game ever play it.\n",
    "data['Action'].value_counts()"
   ]
  },
  {
   "cell_type": "code",
   "execution_count": 6,
   "id": "86803a92",
   "metadata": {},
   "outputs": [
    {
     "data": {
      "text/plain": [
       "Action\n",
       "play        3445365.8\n",
       "purchase     129511.0\n",
       "Name: Amount, dtype: float64"
      ]
     },
     "execution_count": 6,
     "metadata": {},
     "output_type": "execute_result"
    }
   ],
   "source": [
    "# Is a purchase always for one game, and how many hours were played in total?\n",
    "data.groupby('Action')['Amount'].sum()"
   ]
  },
  {
   "cell_type": "code",
   "execution_count": 7,
   "id": "336136b4",
   "metadata": {},
   "outputs": [
    {
     "data": {
      "text/html": [
       "<div>\n",
       "<style scoped>\n",
       "    .dataframe tbody tr th:only-of-type {\n",
       "        vertical-align: middle;\n",
       "    }\n",
       "\n",
       "    .dataframe tbody tr th {\n",
       "        vertical-align: top;\n",
       "    }\n",
       "\n",
       "    .dataframe thead th {\n",
       "        text-align: right;\n",
       "    }\n",
       "</style>\n",
       "<table border=\"1\" class=\"dataframe\">\n",
       "  <thead>\n",
       "    <tr style=\"text-align: right;\">\n",
       "      <th></th>\n",
       "      <th>Game</th>\n",
       "      <th>play</th>\n",
       "      <th>purchase</th>\n",
       "    </tr>\n",
       "  </thead>\n",
       "  <tbody>\n",
       "    <tr>\n",
       "      <th>0</th>\n",
       "      <td>007 Legends</td>\n",
       "      <td>0.7</td>\n",
       "      <td>1.0</td>\n",
       "    </tr>\n",
       "    <tr>\n",
       "      <th>1</th>\n",
       "      <td>0RBITALIS</td>\n",
       "      <td>1.2</td>\n",
       "      <td>3.0</td>\n",
       "    </tr>\n",
       "    <tr>\n",
       "      <th>2</th>\n",
       "      <td>1... 2... 3... KICK IT! (Drop That Beat Like a...</td>\n",
       "      <td>20.0</td>\n",
       "      <td>7.0</td>\n",
       "    </tr>\n",
       "    <tr>\n",
       "      <th>3</th>\n",
       "      <td>10 Second Ninja</td>\n",
       "      <td>5.9</td>\n",
       "      <td>6.0</td>\n",
       "    </tr>\n",
       "    <tr>\n",
       "      <th>4</th>\n",
       "      <td>10,000,000</td>\n",
       "      <td>3.6</td>\n",
       "      <td>1.0</td>\n",
       "    </tr>\n",
       "  </tbody>\n",
       "</table>\n",
       "</div>"
      ],
      "text/plain": [
       "                                                Game  play  purchase\n",
       "0                                        007 Legends   0.7       1.0\n",
       "1                                          0RBITALIS   1.2       3.0\n",
       "2  1... 2... 3... KICK IT! (Drop That Beat Like a...  20.0       7.0\n",
       "3                                    10 Second Ninja   5.9       6.0\n",
       "4                                         10,000,000   3.6       1.0"
      ]
     },
     "execution_count": 7,
     "metadata": {},
     "output_type": "execute_result"
    }
   ],
   "source": [
    "# We not only need to aggregate the data to a game level but also store number of purchases and hours of play separately.\n",
    "summary = data.pivot_table(index='Game', columns='Action', values='Amount', aggfunc='sum')\n",
    "summary.reset_index(inplace=True)\n",
    "summary.rename_axis(None, axis=1, inplace=True)\n",
    "summary.head()"
   ]
  },
  {
   "cell_type": "code",
   "execution_count": 8,
   "id": "a28c60e3",
   "metadata": {},
   "outputs": [
    {
     "data": {
      "text/html": [
       "<div>\n",
       "<style scoped>\n",
       "    .dataframe tbody tr th:only-of-type {\n",
       "        vertical-align: middle;\n",
       "    }\n",
       "\n",
       "    .dataframe tbody tr th {\n",
       "        vertical-align: top;\n",
       "    }\n",
       "\n",
       "    .dataframe thead th {\n",
       "        text-align: right;\n",
       "    }\n",
       "</style>\n",
       "<table border=\"1\" class=\"dataframe\">\n",
       "  <thead>\n",
       "    <tr style=\"text-align: right;\">\n",
       "      <th></th>\n",
       "      <th>Game</th>\n",
       "      <th>Purchase</th>\n",
       "      <th>Play</th>\n",
       "    </tr>\n",
       "  </thead>\n",
       "  <tbody>\n",
       "    <tr>\n",
       "      <th>0</th>\n",
       "      <td>007 Legends</td>\n",
       "      <td>1.0</td>\n",
       "      <td>0.7</td>\n",
       "    </tr>\n",
       "    <tr>\n",
       "      <th>1</th>\n",
       "      <td>0RBITALIS</td>\n",
       "      <td>3.0</td>\n",
       "      <td>1.2</td>\n",
       "    </tr>\n",
       "    <tr>\n",
       "      <th>2</th>\n",
       "      <td>1... 2... 3... KICK IT! (Drop That Beat Like a...</td>\n",
       "      <td>7.0</td>\n",
       "      <td>20.0</td>\n",
       "    </tr>\n",
       "    <tr>\n",
       "      <th>3</th>\n",
       "      <td>10 Second Ninja</td>\n",
       "      <td>6.0</td>\n",
       "      <td>5.9</td>\n",
       "    </tr>\n",
       "    <tr>\n",
       "      <th>4</th>\n",
       "      <td>10,000,000</td>\n",
       "      <td>1.0</td>\n",
       "      <td>3.6</td>\n",
       "    </tr>\n",
       "  </tbody>\n",
       "</table>\n",
       "</div>"
      ],
      "text/plain": [
       "                                                Game  Purchase  Play\n",
       "0                                        007 Legends       1.0   0.7\n",
       "1                                          0RBITALIS       3.0   1.2\n",
       "2  1... 2... 3... KICK IT! (Drop That Beat Like a...       7.0  20.0\n",
       "3                                    10 Second Ninja       6.0   5.9\n",
       "4                                         10,000,000       1.0   3.6"
      ]
     },
     "execution_count": 8,
     "metadata": {},
     "output_type": "execute_result"
    }
   ],
   "source": [
    "# It would make more sense to have the 'Purchase' column before 'Play'.\n",
    "summary.columns = ['Game', 'Play', 'Purchase']\n",
    "summary = summary[['Game', 'Purchase', 'Play']]\n",
    "summary.head()"
   ]
  },
  {
   "cell_type": "code",
   "execution_count": 9,
   "id": "76e21499",
   "metadata": {},
   "outputs": [
    {
     "data": {
      "text/html": [
       "<div>\n",
       "<style scoped>\n",
       "    .dataframe tbody tr th:only-of-type {\n",
       "        vertical-align: middle;\n",
       "    }\n",
       "\n",
       "    .dataframe tbody tr th {\n",
       "        vertical-align: top;\n",
       "    }\n",
       "\n",
       "    .dataframe thead th {\n",
       "        text-align: right;\n",
       "    }\n",
       "</style>\n",
       "<table border=\"1\" class=\"dataframe\">\n",
       "  <thead>\n",
       "    <tr style=\"text-align: right;\">\n",
       "      <th></th>\n",
       "      <th>Purchase</th>\n",
       "      <th>Play</th>\n",
       "    </tr>\n",
       "  </thead>\n",
       "  <tbody>\n",
       "    <tr>\n",
       "      <th>count</th>\n",
       "      <td>5155.000000</td>\n",
       "      <td>3600.000000</td>\n",
       "    </tr>\n",
       "    <tr>\n",
       "      <th>mean</th>\n",
       "      <td>25.123375</td>\n",
       "      <td>957.046056</td>\n",
       "    </tr>\n",
       "    <tr>\n",
       "      <th>std</th>\n",
       "      <td>101.572586</td>\n",
       "      <td>17930.737469</td>\n",
       "    </tr>\n",
       "    <tr>\n",
       "      <th>min</th>\n",
       "      <td>1.000000</td>\n",
       "      <td>0.100000</td>\n",
       "    </tr>\n",
       "    <tr>\n",
       "      <th>25%</th>\n",
       "      <td>2.000000</td>\n",
       "      <td>3.100000</td>\n",
       "    </tr>\n",
       "    <tr>\n",
       "      <th>50%</th>\n",
       "      <td>5.000000</td>\n",
       "      <td>15.100000</td>\n",
       "    </tr>\n",
       "    <tr>\n",
       "      <th>75%</th>\n",
       "      <td>18.000000</td>\n",
       "      <td>97.575000</td>\n",
       "    </tr>\n",
       "    <tr>\n",
       "      <th>max</th>\n",
       "      <td>4841.000000</td>\n",
       "      <td>981684.600000</td>\n",
       "    </tr>\n",
       "  </tbody>\n",
       "</table>\n",
       "</div>"
      ],
      "text/plain": [
       "          Purchase           Play\n",
       "count  5155.000000    3600.000000\n",
       "mean     25.123375     957.046056\n",
       "std     101.572586   17930.737469\n",
       "min       1.000000       0.100000\n",
       "25%       2.000000       3.100000\n",
       "50%       5.000000      15.100000\n",
       "75%      18.000000      97.575000\n",
       "max    4841.000000  981684.600000"
      ]
     },
     "execution_count": 9,
     "metadata": {},
     "output_type": "execute_result"
    }
   ],
   "source": [
    "summary.describe()"
   ]
  },
  {
   "cell_type": "markdown",
   "id": "54f0716d",
   "metadata": {},
   "source": [
    "Quite a lot of games that were bought but never played in our data, is it not? 5155 games have at least one purchase while only 3600 games have at least one person that played them. Since we are not really interested in such unpopular games, let us put some minimum qualifying restrictions."
   ]
  },
  {
   "cell_type": "code",
   "execution_count": 10,
   "id": "dcc56021",
   "metadata": {},
   "outputs": [
    {
     "data": {
      "text/html": [
       "<div>\n",
       "<style scoped>\n",
       "    .dataframe tbody tr th:only-of-type {\n",
       "        vertical-align: middle;\n",
       "    }\n",
       "\n",
       "    .dataframe tbody tr th {\n",
       "        vertical-align: top;\n",
       "    }\n",
       "\n",
       "    .dataframe thead th {\n",
       "        text-align: right;\n",
       "    }\n",
       "</style>\n",
       "<table border=\"1\" class=\"dataframe\">\n",
       "  <thead>\n",
       "    <tr style=\"text-align: right;\">\n",
       "      <th></th>\n",
       "      <th>Game</th>\n",
       "      <th>Purchase</th>\n",
       "      <th>Play</th>\n",
       "      <th>Conversion</th>\n",
       "    </tr>\n",
       "  </thead>\n",
       "  <tbody>\n",
       "    <tr>\n",
       "      <th>0</th>\n",
       "      <td>3DMark</td>\n",
       "      <td>18.0</td>\n",
       "      <td>240.8</td>\n",
       "      <td>13.38</td>\n",
       "    </tr>\n",
       "    <tr>\n",
       "      <th>1</th>\n",
       "      <td>7 Days to Die</td>\n",
       "      <td>103.0</td>\n",
       "      <td>4075.5</td>\n",
       "      <td>39.57</td>\n",
       "    </tr>\n",
       "    <tr>\n",
       "      <th>2</th>\n",
       "      <td>A.V.A - Alliance of Valiant Arms</td>\n",
       "      <td>63.0</td>\n",
       "      <td>109.1</td>\n",
       "      <td>1.73</td>\n",
       "    </tr>\n",
       "    <tr>\n",
       "      <th>3</th>\n",
       "      <td>APB Reloaded</td>\n",
       "      <td>262.0</td>\n",
       "      <td>9237.2</td>\n",
       "      <td>35.26</td>\n",
       "    </tr>\n",
       "    <tr>\n",
       "      <th>4</th>\n",
       "      <td>ARK Survival Evolved</td>\n",
       "      <td>163.0</td>\n",
       "      <td>13593.1</td>\n",
       "      <td>83.39</td>\n",
       "    </tr>\n",
       "  </tbody>\n",
       "</table>\n",
       "</div>"
      ],
      "text/plain": [
       "                               Game  Purchase     Play  Conversion\n",
       "0                            3DMark      18.0    240.8       13.38\n",
       "1                     7 Days to Die     103.0   4075.5       39.57\n",
       "2  A.V.A - Alliance of Valiant Arms      63.0    109.1        1.73\n",
       "3                      APB Reloaded     262.0   9237.2       35.26\n",
       "4              ARK Survival Evolved     163.0  13593.1       83.39"
      ]
     },
     "execution_count": 10,
     "metadata": {},
     "output_type": "execute_result"
    }
   ],
   "source": [
    "summary = summary[(summary['Purchase'] >= 10) & (summary['Play'] >= 100)]\n",
    "summary.reset_index(drop=True, inplace=True)\n",
    "\n",
    "# What we are really interested in is the average number of hours played by someone who has purchased that game.\n",
    "summary['Conversion'] = summary['Play'] / summary['Purchase']\n",
    "summary = summary.round(2)\n",
    "summary.head()"
   ]
  },
  {
   "cell_type": "code",
   "execution_count": 11,
   "id": "30b16779",
   "metadata": {},
   "outputs": [
    {
     "data": {
      "text/plain": [
       "783"
      ]
     },
     "execution_count": 11,
     "metadata": {},
     "output_type": "execute_result"
    }
   ],
   "source": [
    "len(summary)"
   ]
  },
  {
   "cell_type": "markdown",
   "id": "86f44d4d",
   "metadata": {},
   "source": [
    "783 games, not bad. We need to remember that the data used here is nowhere near the actual popularity of the games as it only contains 200,000 actions and is rather old. Moreover, some games might not be properly represented due to the small scale of dataset. However, we can presume that at least for the most popular games that should not be the case. And let us create a shortlist of games with stricter qualifying requirements."
   ]
  },
  {
   "cell_type": "code",
   "execution_count": 12,
   "id": "f02f129b",
   "metadata": {},
   "outputs": [
    {
     "data": {
      "text/html": [
       "<div>\n",
       "<style scoped>\n",
       "    .dataframe tbody tr th:only-of-type {\n",
       "        vertical-align: middle;\n",
       "    }\n",
       "\n",
       "    .dataframe tbody tr th {\n",
       "        vertical-align: top;\n",
       "    }\n",
       "\n",
       "    .dataframe thead th {\n",
       "        text-align: right;\n",
       "    }\n",
       "</style>\n",
       "<table border=\"1\" class=\"dataframe\">\n",
       "  <thead>\n",
       "    <tr style=\"text-align: right;\">\n",
       "      <th></th>\n",
       "      <th>Game</th>\n",
       "      <th>Purchase</th>\n",
       "      <th>Play</th>\n",
       "      <th>Conversion</th>\n",
       "    </tr>\n",
       "  </thead>\n",
       "  <tbody>\n",
       "    <tr>\n",
       "      <th>0</th>\n",
       "      <td>7 Days to Die</td>\n",
       "      <td>103.0</td>\n",
       "      <td>4075.5</td>\n",
       "      <td>39.57</td>\n",
       "    </tr>\n",
       "    <tr>\n",
       "      <th>1</th>\n",
       "      <td>APB Reloaded</td>\n",
       "      <td>262.0</td>\n",
       "      <td>9237.2</td>\n",
       "      <td>35.26</td>\n",
       "    </tr>\n",
       "    <tr>\n",
       "      <th>2</th>\n",
       "      <td>ARK Survival Evolved</td>\n",
       "      <td>163.0</td>\n",
       "      <td>13593.1</td>\n",
       "      <td>83.39</td>\n",
       "    </tr>\n",
       "    <tr>\n",
       "      <th>3</th>\n",
       "      <td>AdVenture Capitalist</td>\n",
       "      <td>222.0</td>\n",
       "      <td>6067.7</td>\n",
       "      <td>27.33</td>\n",
       "    </tr>\n",
       "    <tr>\n",
       "      <th>4</th>\n",
       "      <td>Age of Empires II HD Edition</td>\n",
       "      <td>238.0</td>\n",
       "      <td>6858.5</td>\n",
       "      <td>28.82</td>\n",
       "    </tr>\n",
       "  </tbody>\n",
       "</table>\n",
       "</div>"
      ],
      "text/plain": [
       "                           Game  Purchase     Play  Conversion\n",
       "0                 7 Days to Die     103.0   4075.5       39.57\n",
       "1                  APB Reloaded     262.0   9237.2       35.26\n",
       "2          ARK Survival Evolved     163.0  13593.1       83.39\n",
       "3          AdVenture Capitalist     222.0   6067.7       27.33\n",
       "4  Age of Empires II HD Edition     238.0   6858.5       28.82"
      ]
     },
     "execution_count": 12,
     "metadata": {},
     "output_type": "execute_result"
    }
   ],
   "source": [
    "shortlist = summary[(summary['Purchase'] >= 100) & (summary['Play'] >= 1000)]\n",
    "shortlist.reset_index(drop=True, inplace=True)\n",
    "shortlist.head()"
   ]
  },
  {
   "cell_type": "code",
   "execution_count": 13,
   "id": "c28a3bc4",
   "metadata": {},
   "outputs": [
    {
     "data": {
      "text/plain": [
       "155"
      ]
     },
     "execution_count": 13,
     "metadata": {},
     "output_type": "execute_result"
    }
   ],
   "source": [
    "len(shortlist)"
   ]
  },
  {
   "cell_type": "markdown",
   "id": "daf9d1a6",
   "metadata": {},
   "source": [
    "155 games, now that should be much easier to look at and analyse one by one when we need it. But let us first start by analysing the general statistics for both dataframes."
   ]
  },
  {
   "cell_type": "code",
   "execution_count": 14,
   "id": "55841e89",
   "metadata": {},
   "outputs": [
    {
     "data": {
      "text/html": [
       "<div>\n",
       "<style scoped>\n",
       "    .dataframe tbody tr th:only-of-type {\n",
       "        vertical-align: middle;\n",
       "    }\n",
       "\n",
       "    .dataframe tbody tr th {\n",
       "        vertical-align: top;\n",
       "    }\n",
       "\n",
       "    .dataframe thead th {\n",
       "        text-align: right;\n",
       "    }\n",
       "</style>\n",
       "<table border=\"1\" class=\"dataframe\">\n",
       "  <thead>\n",
       "    <tr style=\"text-align: right;\">\n",
       "      <th></th>\n",
       "      <th>Purchase</th>\n",
       "      <th>Play</th>\n",
       "      <th>Conversion</th>\n",
       "    </tr>\n",
       "  </thead>\n",
       "  <tbody>\n",
       "    <tr>\n",
       "      <th>count</th>\n",
       "      <td>783.000000</td>\n",
       "      <td>783.000000</td>\n",
       "      <td>783.000000</td>\n",
       "    </tr>\n",
       "    <tr>\n",
       "      <th>mean</th>\n",
       "      <td>111.197957</td>\n",
       "      <td>4303.685185</td>\n",
       "      <td>21.597484</td>\n",
       "    </tr>\n",
       "    <tr>\n",
       "      <th>std</th>\n",
       "      <td>237.255413</td>\n",
       "      <td>38279.790989</td>\n",
       "      <td>40.289269</td>\n",
       "    </tr>\n",
       "    <tr>\n",
       "      <th>min</th>\n",
       "      <td>10.000000</td>\n",
       "      <td>100.300000</td>\n",
       "      <td>0.190000</td>\n",
       "    </tr>\n",
       "    <tr>\n",
       "      <th>25%</th>\n",
       "      <td>29.000000</td>\n",
       "      <td>200.100000</td>\n",
       "      <td>4.945000</td>\n",
       "    </tr>\n",
       "    <tr>\n",
       "      <th>50%</th>\n",
       "      <td>57.000000</td>\n",
       "      <td>468.500000</td>\n",
       "      <td>10.160000</td>\n",
       "    </tr>\n",
       "    <tr>\n",
       "      <th>75%</th>\n",
       "      <td>113.500000</td>\n",
       "      <td>1418.200000</td>\n",
       "      <td>20.540000</td>\n",
       "    </tr>\n",
       "    <tr>\n",
       "      <th>max</th>\n",
       "      <td>4841.000000</td>\n",
       "      <td>981684.600000</td>\n",
       "      <td>385.570000</td>\n",
       "    </tr>\n",
       "  </tbody>\n",
       "</table>\n",
       "</div>"
      ],
      "text/plain": [
       "          Purchase           Play  Conversion\n",
       "count   783.000000     783.000000  783.000000\n",
       "mean    111.197957    4303.685185   21.597484\n",
       "std     237.255413   38279.790989   40.289269\n",
       "min      10.000000     100.300000    0.190000\n",
       "25%      29.000000     200.100000    4.945000\n",
       "50%      57.000000     468.500000   10.160000\n",
       "75%     113.500000    1418.200000   20.540000\n",
       "max    4841.000000  981684.600000  385.570000"
      ]
     },
     "execution_count": 14,
     "metadata": {},
     "output_type": "execute_result"
    }
   ],
   "source": [
    "summary.describe()"
   ]
  },
  {
   "cell_type": "markdown",
   "id": "3ed0c86f",
   "metadata": {},
   "source": [
    "Very interesting. Almost 75% of games have less than an average amount of purchases, which means that the mean is largely driven by a smaller number of very popular games. That effect stays the same for conversion rates and is even more pronounced for the total number of hours recorded, for which the mean is three times the 75% quantile value.\n",
    "\n",
    "And just look at the max values for all columns. One game was purchased almost 5,000 times while we only had 130,000 purchases in our original dataset, meaning that around 3,8% of all purchases were for that one particular game - 44 times the average of summary dataset.\n",
    "\n",
    "Similarly, some game has 228 times the average play time of summary dataset. Even when compared to the original dataset before eliminating less popular games, it accounts for 28,5% of all play time! That one game alone has more play time than the least played 75% of the games combined.\n",
    "\n",
    "Now conversion rate is a much more tricky subject. Not all games possess the same level of replayability to begin with, as many games are storyline-driven and intended for a certain amount of play time. It is often multiplayer or sandbox games that can rack up a huge amount of hours played. As such, it is not really fair to compare the conversion rates of different games without taking into consideration the nature of these games. For example, we could compare the conversion rates of different strategy games."
   ]
  },
  {
   "cell_type": "code",
   "execution_count": 15,
   "id": "1e2e2a98",
   "metadata": {},
   "outputs": [
    {
     "data": {
      "text/html": [
       "<div>\n",
       "<style scoped>\n",
       "    .dataframe tbody tr th:only-of-type {\n",
       "        vertical-align: middle;\n",
       "    }\n",
       "\n",
       "    .dataframe tbody tr th {\n",
       "        vertical-align: top;\n",
       "    }\n",
       "\n",
       "    .dataframe thead th {\n",
       "        text-align: right;\n",
       "    }\n",
       "</style>\n",
       "<table border=\"1\" class=\"dataframe\">\n",
       "  <thead>\n",
       "    <tr style=\"text-align: right;\">\n",
       "      <th></th>\n",
       "      <th>Purchase</th>\n",
       "      <th>Play</th>\n",
       "      <th>Conversion</th>\n",
       "    </tr>\n",
       "  </thead>\n",
       "  <tbody>\n",
       "    <tr>\n",
       "      <th>count</th>\n",
       "      <td>155.000000</td>\n",
       "      <td>155.000000</td>\n",
       "      <td>155.000000</td>\n",
       "    </tr>\n",
       "    <tr>\n",
       "      <th>mean</th>\n",
       "      <td>319.477419</td>\n",
       "      <td>18460.578710</td>\n",
       "      <td>34.450194</td>\n",
       "    </tr>\n",
       "    <tr>\n",
       "      <th>std</th>\n",
       "      <td>461.029598</td>\n",
       "      <td>84669.048622</td>\n",
       "      <td>44.773612</td>\n",
       "    </tr>\n",
       "    <tr>\n",
       "      <th>min</th>\n",
       "      <td>100.000000</td>\n",
       "      <td>1002.800000</td>\n",
       "      <td>2.530000</td>\n",
       "    </tr>\n",
       "    <tr>\n",
       "      <th>25%</th>\n",
       "      <td>142.000000</td>\n",
       "      <td>1816.950000</td>\n",
       "      <td>10.165000</td>\n",
       "    </tr>\n",
       "    <tr>\n",
       "      <th>50%</th>\n",
       "      <td>207.000000</td>\n",
       "      <td>3581.900000</td>\n",
       "      <td>17.860000</td>\n",
       "    </tr>\n",
       "    <tr>\n",
       "      <th>75%</th>\n",
       "      <td>313.000000</td>\n",
       "      <td>8840.300000</td>\n",
       "      <td>38.690000</td>\n",
       "    </tr>\n",
       "    <tr>\n",
       "      <th>max</th>\n",
       "      <td>4841.000000</td>\n",
       "      <td>981684.600000</td>\n",
       "      <td>310.660000</td>\n",
       "    </tr>\n",
       "  </tbody>\n",
       "</table>\n",
       "</div>"
      ],
      "text/plain": [
       "          Purchase           Play  Conversion\n",
       "count   155.000000     155.000000  155.000000\n",
       "mean    319.477419   18460.578710   34.450194\n",
       "std     461.029598   84669.048622   44.773612\n",
       "min     100.000000    1002.800000    2.530000\n",
       "25%     142.000000    1816.950000   10.165000\n",
       "50%     207.000000    3581.900000   17.860000\n",
       "75%     313.000000    8840.300000   38.690000\n",
       "max    4841.000000  981684.600000  310.660000"
      ]
     },
     "execution_count": 15,
     "metadata": {},
     "output_type": "execute_result"
    }
   ],
   "source": [
    "shortlist.describe()"
   ]
  },
  {
   "cell_type": "markdown",
   "id": "f43b735b",
   "metadata": {},
   "source": [
    "Despite further restricting our dataset we are observing the exact same behaviour as before. The means for both purchases and conversion rates are around the 75% quantile value while the mean for play time exceeds it, although not as severely as before. It appears that such behaviour might be standard for any random dataset of games that we get, at the time this data was collected at least.\n",
    "\n",
    "What is interesting is that while the max values for both purchases and plays stayed the same, the maximum value for conversion rate has dropped from 385 to 310. Apparently, some game was extremely popular among the people who bought it but did not have enough purchases to make it into the shortlist. Would be very interesting to take a look at that game."
   ]
  },
  {
   "cell_type": "code",
   "execution_count": 16,
   "id": "9e7bc653",
   "metadata": {},
   "outputs": [
    {
     "data": {
      "text/html": [
       "<div>\n",
       "<style scoped>\n",
       "    .dataframe tbody tr th:only-of-type {\n",
       "        vertical-align: middle;\n",
       "    }\n",
       "\n",
       "    .dataframe tbody tr th {\n",
       "        vertical-align: top;\n",
       "    }\n",
       "\n",
       "    .dataframe thead th {\n",
       "        text-align: right;\n",
       "    }\n",
       "</style>\n",
       "<table border=\"1\" class=\"dataframe\">\n",
       "  <thead>\n",
       "    <tr style=\"text-align: right;\">\n",
       "      <th></th>\n",
       "      <th>Game</th>\n",
       "      <th>Purchase</th>\n",
       "      <th>Play</th>\n",
       "      <th>Conversion</th>\n",
       "    </tr>\n",
       "  </thead>\n",
       "  <tbody>\n",
       "    <tr>\n",
       "      <th>208</th>\n",
       "      <td>Dota 2</td>\n",
       "      <td>4841.0</td>\n",
       "      <td>981684.6</td>\n",
       "      <td>202.79</td>\n",
       "    </tr>\n",
       "    <tr>\n",
       "      <th>648</th>\n",
       "      <td>Team Fortress 2</td>\n",
       "      <td>2323.0</td>\n",
       "      <td>173673.3</td>\n",
       "      <td>74.76</td>\n",
       "    </tr>\n",
       "    <tr>\n",
       "      <th>736</th>\n",
       "      <td>Unturned</td>\n",
       "      <td>1563.0</td>\n",
       "      <td>16096.4</td>\n",
       "      <td>10.30</td>\n",
       "    </tr>\n",
       "    <tr>\n",
       "      <th>143</th>\n",
       "      <td>Counter-Strike Global Offensive</td>\n",
       "      <td>1412.0</td>\n",
       "      <td>322771.6</td>\n",
       "      <td>228.59</td>\n",
       "    </tr>\n",
       "    <tr>\n",
       "      <th>335</th>\n",
       "      <td>Half-Life 2 Lost Coast</td>\n",
       "      <td>981.0</td>\n",
       "      <td>184.4</td>\n",
       "      <td>0.19</td>\n",
       "    </tr>\n",
       "  </tbody>\n",
       "</table>\n",
       "</div>"
      ],
      "text/plain": [
       "                                Game  Purchase      Play  Conversion\n",
       "208                           Dota 2    4841.0  981684.6      202.79\n",
       "648                  Team Fortress 2    2323.0  173673.3       74.76\n",
       "736                         Unturned    1563.0   16096.4       10.30\n",
       "143  Counter-Strike Global Offensive    1412.0  322771.6      228.59\n",
       "335           Half-Life 2 Lost Coast     981.0     184.4        0.19"
      ]
     },
     "execution_count": 16,
     "metadata": {},
     "output_type": "execute_result"
    }
   ],
   "source": [
    "# Top purchased.\n",
    "summary.nlargest(5, 'Purchase')"
   ]
  },
  {
   "cell_type": "code",
   "execution_count": 17,
   "id": "f0578cca",
   "metadata": {},
   "outputs": [
    {
     "data": {
      "text/html": [
       "<div>\n",
       "<style scoped>\n",
       "    .dataframe tbody tr th:only-of-type {\n",
       "        vertical-align: middle;\n",
       "    }\n",
       "\n",
       "    .dataframe tbody tr th {\n",
       "        vertical-align: top;\n",
       "    }\n",
       "\n",
       "    .dataframe thead th {\n",
       "        text-align: right;\n",
       "    }\n",
       "</style>\n",
       "<table border=\"1\" class=\"dataframe\">\n",
       "  <thead>\n",
       "    <tr style=\"text-align: right;\">\n",
       "      <th></th>\n",
       "      <th>Game</th>\n",
       "      <th>Purchase</th>\n",
       "      <th>Play</th>\n",
       "      <th>Conversion</th>\n",
       "    </tr>\n",
       "  </thead>\n",
       "  <tbody>\n",
       "    <tr>\n",
       "      <th>208</th>\n",
       "      <td>Dota 2</td>\n",
       "      <td>4841.0</td>\n",
       "      <td>981684.6</td>\n",
       "      <td>202.79</td>\n",
       "    </tr>\n",
       "    <tr>\n",
       "      <th>143</th>\n",
       "      <td>Counter-Strike Global Offensive</td>\n",
       "      <td>1412.0</td>\n",
       "      <td>322771.6</td>\n",
       "      <td>228.59</td>\n",
       "    </tr>\n",
       "    <tr>\n",
       "      <th>648</th>\n",
       "      <td>Team Fortress 2</td>\n",
       "      <td>2323.0</td>\n",
       "      <td>173673.3</td>\n",
       "      <td>74.76</td>\n",
       "    </tr>\n",
       "    <tr>\n",
       "      <th>140</th>\n",
       "      <td>Counter-Strike</td>\n",
       "      <td>856.0</td>\n",
       "      <td>134261.1</td>\n",
       "      <td>156.85</td>\n",
       "    </tr>\n",
       "    <tr>\n",
       "      <th>581</th>\n",
       "      <td>Sid Meier's Civilization V</td>\n",
       "      <td>596.0</td>\n",
       "      <td>99821.3</td>\n",
       "      <td>167.49</td>\n",
       "    </tr>\n",
       "  </tbody>\n",
       "</table>\n",
       "</div>"
      ],
      "text/plain": [
       "                                Game  Purchase      Play  Conversion\n",
       "208                           Dota 2    4841.0  981684.6      202.79\n",
       "143  Counter-Strike Global Offensive    1412.0  322771.6      228.59\n",
       "648                  Team Fortress 2    2323.0  173673.3       74.76\n",
       "140                   Counter-Strike     856.0  134261.1      156.85\n",
       "581       Sid Meier's Civilization V     596.0   99821.3      167.49"
      ]
     },
     "execution_count": 17,
     "metadata": {},
     "output_type": "execute_result"
    }
   ],
   "source": [
    "# Top played.\n",
    "summary.nlargest(5, 'Play')"
   ]
  },
  {
   "cell_type": "code",
   "execution_count": 18,
   "id": "5044accc",
   "metadata": {},
   "outputs": [
    {
     "data": {
      "text/html": [
       "<div>\n",
       "<style scoped>\n",
       "    .dataframe tbody tr th:only-of-type {\n",
       "        vertical-align: middle;\n",
       "    }\n",
       "\n",
       "    .dataframe tbody tr th {\n",
       "        vertical-align: top;\n",
       "    }\n",
       "\n",
       "    .dataframe thead th {\n",
       "        text-align: right;\n",
       "    }\n",
       "</style>\n",
       "<table border=\"1\" class=\"dataframe\">\n",
       "  <thead>\n",
       "    <tr style=\"text-align: right;\">\n",
       "      <th></th>\n",
       "      <th>Game</th>\n",
       "      <th>Purchase</th>\n",
       "      <th>Play</th>\n",
       "      <th>Conversion</th>\n",
       "    </tr>\n",
       "  </thead>\n",
       "  <tbody>\n",
       "    <tr>\n",
       "      <th>279</th>\n",
       "      <td>Football Manager 2012</td>\n",
       "      <td>80.0</td>\n",
       "      <td>30845.8</td>\n",
       "      <td>385.57</td>\n",
       "    </tr>\n",
       "    <tr>\n",
       "      <th>281</th>\n",
       "      <td>Football Manager 2014</td>\n",
       "      <td>80.0</td>\n",
       "      <td>30574.8</td>\n",
       "      <td>382.18</td>\n",
       "    </tr>\n",
       "    <tr>\n",
       "      <th>277</th>\n",
       "      <td>Football Manager 2010</td>\n",
       "      <td>38.0</td>\n",
       "      <td>13126.7</td>\n",
       "      <td>345.44</td>\n",
       "    </tr>\n",
       "    <tr>\n",
       "      <th>278</th>\n",
       "      <td>Football Manager 2011</td>\n",
       "      <td>34.0</td>\n",
       "      <td>11336.8</td>\n",
       "      <td>333.44</td>\n",
       "    </tr>\n",
       "    <tr>\n",
       "      <th>280</th>\n",
       "      <td>Football Manager 2013</td>\n",
       "      <td>104.0</td>\n",
       "      <td>32308.6</td>\n",
       "      <td>310.66</td>\n",
       "    </tr>\n",
       "  </tbody>\n",
       "</table>\n",
       "</div>"
      ],
      "text/plain": [
       "                      Game  Purchase     Play  Conversion\n",
       "279  Football Manager 2012      80.0  30845.8      385.57\n",
       "281  Football Manager 2014      80.0  30574.8      382.18\n",
       "277  Football Manager 2010      38.0  13126.7      345.44\n",
       "278  Football Manager 2011      34.0  11336.8      333.44\n",
       "280  Football Manager 2013     104.0  32308.6      310.66"
      ]
     },
     "execution_count": 18,
     "metadata": {},
     "output_type": "execute_result"
    }
   ],
   "source": [
    "# Top conversion rate.\n",
    "summary.nlargest(5, 'Conversion')"
   ]
  },
  {
   "cell_type": "markdown",
   "id": "986cbc1c",
   "metadata": {},
   "source": [
    "Without much surprise, the first spot for both number of purchases and total hours played were taken by Dota 2 which is a very much a cult game. We also have game such as 'Counter-Strike', 'Counter-Strike Global Offensive' and 'Sid Meier's Civilization V' in the tops which all look perfectly normal. 'Team Fortress 2' is also in the top played games despite having a considerably smaller conversion rates than the rest of the top. Most of these games are primarily online-based and 'Civilization V' is a sandbox game.\n",
    "\n",
    "Three games deserve a closer look, all of which are featured in the top purchased games. However, 'Unturned' takes the third spot in bought games despite having a rather small play time and the iconic 'Half-Life 2 Lost Coast' has many purchases and barely any play time. It is an interesting example of being hailed as a great game (and thus bought frequently) despite nobody ever playing it.\n",
    "\n",
    "But the most interesting thing is the top for the conversion rate. All of it is taken by different editions of 'Football Manager' franchise. What makes it so special? Is it an extreme replayability or extreme loyalty of the franchise's fanbase? Probably a bit of both, but also a third and very important factor.\n",
    "\n",
    "In 'Football Manager', you do not need to actively interact with the game all the time. Since you act as a team's manager, a lot of the time the game would be running in the background simulating all matches of a season until a player's intervention is necessary. That is the case for most sports management games, and a good example of why conversion rate (and play time in general) can be ill-representative of the actual popularity of the game - same as with 'Half-Life 2 Lost Coast' and its many purchases.\n",
    "\n",
    "Let us plot the behaviour of all three parametres to show graphically the differences and similarities. Since the min and max values are very different, we are going to use logarithms. In effect, the growth of a feature's logarithm would be close enough to the rate at which that particular feature grows."
   ]
  },
  {
   "cell_type": "code",
   "execution_count": 19,
   "id": "f4dc27ea",
   "metadata": {},
   "outputs": [],
   "source": [
    "def plot_ascending(df):\n",
    "    name = df.name\n",
    "    values = df.sort_values()\n",
    "    values.reset_index(drop=True, inplace=True)\n",
    "    \n",
    "    # Rescaling the values to compare graphs with each other.\n",
    "    values = (values - values.min()) / (values.max() - values.min())\n",
    "    values = np.log(values + 1)\n",
    "    plt.plot(values, label=name)"
   ]
  },
  {
   "cell_type": "code",
   "execution_count": 20,
   "id": "31409670",
   "metadata": {},
   "outputs": [
    {
     "data": {
      "image/png": "[encoded data removed]",
      "text/plain": [
       "<Figure size 432x288 with 1 Axes>"
      ]
     },
     "metadata": {},
     "output_type": "display_data"
    }
   ],
   "source": [
    "for column in summary.columns[1:]:\n",
    "    plot_ascending(summary[column])\n",
    "\n",
    "plt.xticks([])\n",
    "plt.yticks([])\n",
    "plt.legend()\n",
    "plt.show()"
   ]
  },
  {
   "cell_type": "markdown",
   "id": "afe1ab6d",
   "metadata": {},
   "source": [
    "Overall, the three lines seem to show a fairly similar behaviour. The growth rates for all of them are skewed towards a smaller number of more popular games located on the right of the graph. That effect is stronger for the number of purchases than the conversion rate, and extremely strong for the total play time. Let us better illustrate it with a plot of cumulative values. The conversion rate is not going to be included in the next graph as it makes little sense for us to calculate the cumulative values of it."
   ]
  },
  {
   "cell_type": "code",
   "execution_count": 21,
   "id": "78066201",
   "metadata": {},
   "outputs": [],
   "source": [
    "def plot_cumulative(df):\n",
    "    name = df.name\n",
    "    values = df.sort_values()\n",
    "    values.reset_index(drop=True, inplace=True)\n",
    "    \n",
    "    # We need to both calculate the cumulative values and rescale them as proportion of total.\n",
    "    values = values.cumsum()\n",
    "    values = values / values.max()\n",
    "    plt.plot(values, label=name)"
   ]
  },
  {
   "cell_type": "code",
   "execution_count": 22,
   "id": "846af116",
   "metadata": {},
   "outputs": [
    {
     "data": {
      "image/png": "[encoded data removed]",
      "text/plain": [
       "<Figure size 432x288 with 1 Axes>"
      ]
     },
     "metadata": {},
     "output_type": "display_data"
    }
   ],
   "source": [
    "for column in summary.columns[1:-1]:\n",
    "    plot_cumulative(summary[column])\n",
    "\n",
    "plt.xticks([])\n",
    "plt.yticks([])\n",
    "plt.legend()\n",
    "plt.show()"
   ]
  },
  {
   "cell_type": "markdown",
   "id": "16eb1420",
   "metadata": {},
   "source": [
    "Indeed, we can see a huge drop here. Both graphs now look much smoother than when we were looking at the growth rates, although the cumulative values of hours played are still extremely skewed compared to the number of purchases. Should not be too much of a surprise though, since we have already discovered before that the most played game alone accounts for 28,5% of all play time."
   ]
  }
 ],
 "metadata": {
  "kernelspec": {
   "display_name": "Python 3",
   "language": "python",
   "name": "python3"
  },
  "language_info": {
   "codemirror_mode": {
    "name": "ipython",
    "version": 3
   },
   "file_extension": ".py",
   "mimetype": "text/x-python",
   "name": "python",
   "nbconvert_exporter": "python",
   "pygments_lexer": "ipython3",
   "version": "3.8.8"
  }
 },
 "nbformat": 4,
 "nbformat_minor": 5
}
